{
 "cells": [
  {
   "cell_type": "code",
   "execution_count": 12,
   "id": "e577f188-2709-4e4c-a2d8-2d2256d23765",
   "metadata": {},
   "outputs": [],
   "source": [
    "import numpy as np\n",
    "\n",
    "def pad(X):\n",
    "        return np.append(X, np.ones((X.shape[0], 1)), 1)\n",
    "\n",
    "X = np.random.rand(10, 3)\n",
    "X = pad(X)\n",
    "w = np.random.rand(X.shape[1])\n",
    "\n",
    "y = X@w + np.random.randn(X.shape[0])\n",
    "\n",
    "\n",
    "def predict(X,y):\n",
    "    return X@w\n",
    "    \n",
    "def score(X, y, w):\n",
    "    \n",
    "\n",
    "\n",
    "\n"
   ]
  },
  {
   "cell_type": "code",
   "execution_count": null,
   "id": "0122341e-554c-43d5-9ea4-7be76d511c89",
   "metadata": {},
   "outputs": [],
   "source": []
  }
 ],
 "metadata": {
  "kernelspec": {
   "display_name": "Python 3 (ipykernel)",
   "language": "python",
   "name": "python3"
  },
  "language_info": {
   "codemirror_mode": {
    "name": "ipython",
    "version": 3
   },
   "file_extension": ".py",
   "mimetype": "text/x-python",
   "name": "python",
   "nbconvert_exporter": "python",
   "pygments_lexer": "ipython3",
   "version": "3.10.9"
  }
 },
 "nbformat": 4,
 "nbformat_minor": 5
}
