{
 "cells": [
  {
   "cell_type": "raw",
   "id": "0f9901a2-b6f7-4911-b09f-ed3ef9b3a401",
   "metadata": {},
   "source": [
    "---\n",
    "title: Auditing Allocative Bias\n",
    "author: Hedavam Solano\n",
    "date: '2023-04-19'\n",
    "image: \"image.jpg\"\n",
    "description: \"Examining sex-based algorithmic bias using an income classifiction model.\"\n",
    "format: html\n",
    "---"
   ]
  },
  {
   "cell_type": "code",
   "execution_count": 141,
   "id": "5009a509-25e4-4bd1-90d5-885095069757",
   "metadata": {
    "tags": []
   },
   "outputs": [],
   "source": [
    "import numpy as np\n",
    "import pandas as pd\n",
    "import seaborn as sns\n",
    "from matplotlib import pyplot as plt"
   ]
  },
  {
   "cell_type": "markdown",
   "id": "26e31d23-a9bf-4d6b-9cfa-0c7db1de5a4f",
   "metadata": {},
   "source": [
    "# Overview\n",
    "\n",
    "## Goal\n",
    "Creat a machine learning model that predicts if someone's income is over $50K on the basis of sex. Then, we'll perform a fairness audit to assess if our algorithm has a gender bias.\n",
    "\n",
    "## Approach\n",
    "\n",
    "\n",
    "- Choose Problem\n",
    "  - Import appropriate dataset for training\n",
    "  - Chosse Features\n",
    "- Basic Descriptives + visuals (if I'm not lazy)\n",
    "- Model Training & Tuning\n",
    "- Model Auditing\n",
    "- Concluding Discussion"
   ]
  },
  {
   "cell_type": "markdown",
   "id": "b902511c-8d21-489f-95b8-83f8ae7b01c4",
   "metadata": {},
   "source": [
    "Useful Resources:\n",
    "- https://middlebury-csci-0451.github.io/CSCI-0451/lecture-notes/classification-in-practice.html"
   ]
  },
  {
   "cell_type": "markdown",
   "id": "78175c6c-a6ac-4118-85ae-e85d5a23ce1c",
   "metadata": {},
   "source": [
    "# Choose Problem + Prepare Data For Modeling"
   ]
  },
  {
   "cell_type": "markdown",
   "id": "846ebb1f-0bce-4897-a73c-dfb7d7540a35",
   "metadata": {},
   "source": [
    "Our Problem: Predict whether income is over $50K on the basis of demographics excluding sex, and audit for gender bias. The modeling is based on data from respondents in the state of Florida in 2018."
   ]
  },
  {
   "cell_type": "markdown",
   "id": "3919c75d-981f-408b-9201-011d4747c6ed",
   "metadata": {},
   "source": [
    "## Import appropriate dataset for training"
   ]
  },
  {
   "cell_type": "code",
   "execution_count": 142,
   "id": "8fdc1c77-dd2b-4177-96ee-0774514551d2",
   "metadata": {},
   "outputs": [
    {
     "data": {
      "text/html": [
       "<div>\n",
       "<style scoped>\n",
       "    .dataframe tbody tr th:only-of-type {\n",
       "        vertical-align: middle;\n",
       "    }\n",
       "\n",
       "    .dataframe tbody tr th {\n",
       "        vertical-align: top;\n",
       "    }\n",
       "\n",
       "    .dataframe thead th {\n",
       "        text-align: right;\n",
       "    }\n",
       "</style>\n",
       "<table border=\"1\" class=\"dataframe\">\n",
       "  <thead>\n",
       "    <tr style=\"text-align: right;\">\n",
       "      <th></th>\n",
       "      <th>RT</th>\n",
       "      <th>SERIALNO</th>\n",
       "      <th>DIVISION</th>\n",
       "      <th>SPORDER</th>\n",
       "      <th>PUMA</th>\n",
       "      <th>REGION</th>\n",
       "      <th>ST</th>\n",
       "      <th>ADJINC</th>\n",
       "      <th>PWGTP</th>\n",
       "      <th>AGEP</th>\n",
       "      <th>...</th>\n",
       "      <th>PWGTP71</th>\n",
       "      <th>PWGTP72</th>\n",
       "      <th>PWGTP73</th>\n",
       "      <th>PWGTP74</th>\n",
       "      <th>PWGTP75</th>\n",
       "      <th>PWGTP76</th>\n",
       "      <th>PWGTP77</th>\n",
       "      <th>PWGTP78</th>\n",
       "      <th>PWGTP79</th>\n",
       "      <th>PWGTP80</th>\n",
       "    </tr>\n",
       "  </thead>\n",
       "  <tbody>\n",
       "    <tr>\n",
       "      <th>0</th>\n",
       "      <td>P</td>\n",
       "      <td>2018GQ0000011</td>\n",
       "      <td>5</td>\n",
       "      <td>1</td>\n",
       "      <td>12702</td>\n",
       "      <td>3</td>\n",
       "      <td>12</td>\n",
       "      <td>1013097</td>\n",
       "      <td>9</td>\n",
       "      <td>64</td>\n",
       "      <td>...</td>\n",
       "      <td>8</td>\n",
       "      <td>2</td>\n",
       "      <td>15</td>\n",
       "      <td>9</td>\n",
       "      <td>7</td>\n",
       "      <td>8</td>\n",
       "      <td>0</td>\n",
       "      <td>14</td>\n",
       "      <td>8</td>\n",
       "      <td>15</td>\n",
       "    </tr>\n",
       "    <tr>\n",
       "      <th>1</th>\n",
       "      <td>P</td>\n",
       "      <td>2018GQ0000056</td>\n",
       "      <td>5</td>\n",
       "      <td>1</td>\n",
       "      <td>9907</td>\n",
       "      <td>3</td>\n",
       "      <td>12</td>\n",
       "      <td>1013097</td>\n",
       "      <td>53</td>\n",
       "      <td>95</td>\n",
       "      <td>...</td>\n",
       "      <td>53</td>\n",
       "      <td>52</td>\n",
       "      <td>53</td>\n",
       "      <td>4</td>\n",
       "      <td>98</td>\n",
       "      <td>3</td>\n",
       "      <td>52</td>\n",
       "      <td>102</td>\n",
       "      <td>100</td>\n",
       "      <td>102</td>\n",
       "    </tr>\n",
       "    <tr>\n",
       "      <th>2</th>\n",
       "      <td>P</td>\n",
       "      <td>2018GQ0000085</td>\n",
       "      <td>5</td>\n",
       "      <td>1</td>\n",
       "      <td>7102</td>\n",
       "      <td>3</td>\n",
       "      <td>12</td>\n",
       "      <td>1013097</td>\n",
       "      <td>26</td>\n",
       "      <td>15</td>\n",
       "      <td>...</td>\n",
       "      <td>22</td>\n",
       "      <td>4</td>\n",
       "      <td>28</td>\n",
       "      <td>45</td>\n",
       "      <td>50</td>\n",
       "      <td>51</td>\n",
       "      <td>23</td>\n",
       "      <td>23</td>\n",
       "      <td>27</td>\n",
       "      <td>3</td>\n",
       "    </tr>\n",
       "    <tr>\n",
       "      <th>3</th>\n",
       "      <td>P</td>\n",
       "      <td>2018GQ0000092</td>\n",
       "      <td>5</td>\n",
       "      <td>1</td>\n",
       "      <td>3302</td>\n",
       "      <td>3</td>\n",
       "      <td>12</td>\n",
       "      <td>1013097</td>\n",
       "      <td>80</td>\n",
       "      <td>20</td>\n",
       "      <td>...</td>\n",
       "      <td>79</td>\n",
       "      <td>136</td>\n",
       "      <td>145</td>\n",
       "      <td>12</td>\n",
       "      <td>84</td>\n",
       "      <td>12</td>\n",
       "      <td>80</td>\n",
       "      <td>79</td>\n",
       "      <td>14</td>\n",
       "      <td>74</td>\n",
       "    </tr>\n",
       "    <tr>\n",
       "      <th>4</th>\n",
       "      <td>P</td>\n",
       "      <td>2018GQ0000104</td>\n",
       "      <td>5</td>\n",
       "      <td>1</td>\n",
       "      <td>10501</td>\n",
       "      <td>3</td>\n",
       "      <td>12</td>\n",
       "      <td>1013097</td>\n",
       "      <td>31</td>\n",
       "      <td>18</td>\n",
       "      <td>...</td>\n",
       "      <td>5</td>\n",
       "      <td>4</td>\n",
       "      <td>5</td>\n",
       "      <td>31</td>\n",
       "      <td>29</td>\n",
       "      <td>5</td>\n",
       "      <td>5</td>\n",
       "      <td>31</td>\n",
       "      <td>4</td>\n",
       "      <td>3</td>\n",
       "    </tr>\n",
       "  </tbody>\n",
       "</table>\n",
       "<p>5 rows × 286 columns</p>\n",
       "</div>"
      ],
      "text/plain": [
       "  RT       SERIALNO  DIVISION  SPORDER   PUMA  REGION  ST   ADJINC  PWGTP  \\\n",
       "0  P  2018GQ0000011         5        1  12702       3  12  1013097      9   \n",
       "1  P  2018GQ0000056         5        1   9907       3  12  1013097     53   \n",
       "2  P  2018GQ0000085         5        1   7102       3  12  1013097     26   \n",
       "3  P  2018GQ0000092         5        1   3302       3  12  1013097     80   \n",
       "4  P  2018GQ0000104         5        1  10501       3  12  1013097     31   \n",
       "\n",
       "   AGEP  ...  PWGTP71  PWGTP72  PWGTP73  PWGTP74  PWGTP75  PWGTP76  PWGTP77  \\\n",
       "0    64  ...        8        2       15        9        7        8        0   \n",
       "1    95  ...       53       52       53        4       98        3       52   \n",
       "2    15  ...       22        4       28       45       50       51       23   \n",
       "3    20  ...       79      136      145       12       84       12       80   \n",
       "4    18  ...        5        4        5       31       29        5        5   \n",
       "\n",
       "   PWGTP78  PWGTP79  PWGTP80  \n",
       "0       14        8       15  \n",
       "1      102      100      102  \n",
       "2       23       27        3  \n",
       "3       79       14       74  \n",
       "4       31        4        3  \n",
       "\n",
       "[5 rows x 286 columns]"
      ]
     },
     "execution_count": 142,
     "metadata": {},
     "output_type": "execute_result"
    }
   ],
   "source": [
    "from folktables import ACSDataSource, ACSEmploymalet, BasicProblem, adult_filter\n",
    "import numpy as np\n",
    "\n",
    "STATE = \"FL\"\n",
    "\n",
    "data_source = ACSDataSource(survey_year='2018', \n",
    "                            horizon='1-Year', \n",
    "                            survey='person')\n",
    "\n",
    "acs_data = data_source.get_data(states=[STATE], download=True)\n",
    "\n",
    "acs_data.head()"
   ]
  },
  {
   "cell_type": "markdown",
   "id": "3509f07b-f912-45e9-a0e2-269afaa83e32",
   "metadata": {},
   "source": [
    "## Choose Features"
   ]
  },
  {
   "cell_type": "code",
   "execution_count": 143,
   "id": "9c939bfe-d968-4e8a-9a45-518be921e4af",
   "metadata": {},
   "outputs": [
    {
     "data": {
      "text/html": [
       "<div>\n",
       "<style scoped>\n",
       "    .dataframe tbody tr th:only-of-type {\n",
       "        vertical-align: middle;\n",
       "    }\n",
       "\n",
       "    .dataframe tbody tr th {\n",
       "        vertical-align: top;\n",
       "    }\n",
       "\n",
       "    .dataframe thead th {\n",
       "        text-align: right;\n",
       "    }\n",
       "</style>\n",
       "<table border=\"1\" class=\"dataframe\">\n",
       "  <thead>\n",
       "    <tr style=\"text-align: right;\">\n",
       "      <th></th>\n",
       "      <th>AGEP</th>\n",
       "      <th>COW</th>\n",
       "      <th>SCHL</th>\n",
       "      <th>MAR</th>\n",
       "      <th>OCCP</th>\n",
       "      <th>POBP</th>\n",
       "      <th>RELP</th>\n",
       "      <th>WKHP</th>\n",
       "      <th>RAC1P</th>\n",
       "      <th>SEX</th>\n",
       "      <th>PINCP</th>\n",
       "    </tr>\n",
       "  </thead>\n",
       "  <tbody>\n",
       "    <tr>\n",
       "      <th>0</th>\n",
       "      <td>64</td>\n",
       "      <td>NaN</td>\n",
       "      <td>16.0</td>\n",
       "      <td>1</td>\n",
       "      <td>NaN</td>\n",
       "      <td>327</td>\n",
       "      <td>16</td>\n",
       "      <td>NaN</td>\n",
       "      <td>8</td>\n",
       "      <td>1</td>\n",
       "      <td>0.0</td>\n",
       "    </tr>\n",
       "    <tr>\n",
       "      <th>1</th>\n",
       "      <td>95</td>\n",
       "      <td>NaN</td>\n",
       "      <td>16.0</td>\n",
       "      <td>2</td>\n",
       "      <td>NaN</td>\n",
       "      <td>12</td>\n",
       "      <td>16</td>\n",
       "      <td>NaN</td>\n",
       "      <td>1</td>\n",
       "      <td>2</td>\n",
       "      <td>14500.0</td>\n",
       "    </tr>\n",
       "    <tr>\n",
       "      <th>2</th>\n",
       "      <td>15</td>\n",
       "      <td>NaN</td>\n",
       "      <td>12.0</td>\n",
       "      <td>5</td>\n",
       "      <td>NaN</td>\n",
       "      <td>12</td>\n",
       "      <td>16</td>\n",
       "      <td>NaN</td>\n",
       "      <td>2</td>\n",
       "      <td>1</td>\n",
       "      <td>0.0</td>\n",
       "    </tr>\n",
       "    <tr>\n",
       "      <th>3</th>\n",
       "      <td>20</td>\n",
       "      <td>1.0</td>\n",
       "      <td>16.0</td>\n",
       "      <td>5</td>\n",
       "      <td>5240.0</td>\n",
       "      <td>11</td>\n",
       "      <td>17</td>\n",
       "      <td>40.0</td>\n",
       "      <td>9</td>\n",
       "      <td>1</td>\n",
       "      <td>4900.0</td>\n",
       "    </tr>\n",
       "    <tr>\n",
       "      <th>4</th>\n",
       "      <td>18</td>\n",
       "      <td>NaN</td>\n",
       "      <td>16.0</td>\n",
       "      <td>5</td>\n",
       "      <td>NaN</td>\n",
       "      <td>40</td>\n",
       "      <td>17</td>\n",
       "      <td>NaN</td>\n",
       "      <td>2</td>\n",
       "      <td>1</td>\n",
       "      <td>0.0</td>\n",
       "    </tr>\n",
       "  </tbody>\n",
       "</table>\n",
       "</div>"
      ],
      "text/plain": [
       "   AGEP  COW  SCHL  MAR    OCCP  POBP  RELP  WKHP  RAC1P  SEX    PINCP\n",
       "0    64  NaN  16.0    1     NaN   327    16   NaN      8    1      0.0\n",
       "1    95  NaN  16.0    2     NaN    12    16   NaN      1    2  14500.0\n",
       "2    15  NaN  12.0    5     NaN    12    16   NaN      2    1      0.0\n",
       "3    20  1.0  16.0    5  5240.0    11    17  40.0      9    1   4900.0\n",
       "4    18  NaN  16.0    5     NaN    40    17   NaN      2    1      0.0"
      ]
     },
     "execution_count": 143,
     "metadata": {},
     "output_type": "execute_result"
    }
   ],
   "source": [
    "possible_features=['AGEP', 'COW', 'SCHL', 'MAR', 'OCCP', 'POBP', 'RELP', 'WKHP', 'RAC1P', 'SEX', 'PINCP'] #10 FEATURES FOR ACSIncome as listed in paper + PINCP as Target\n",
    "acs_data[possible_features].head()"
   ]
  },
  {
   "cell_type": "code",
   "execution_count": 144,
   "id": "e85ed62a-a54c-4fb1-ac32-74f25229e0c6",
   "metadata": {},
   "outputs": [],
   "source": [
    "#take out sex (feature we're auditing bias for) and total person’s income (target)\n",
    "features_to_use = [f for f in possible_features if f not in [\"PINCP\", \"SEX\"]]"
   ]
  },
  {
   "cell_type": "code",
   "execution_count": 145,
   "id": "22b0a6a5-a30b-4536-a5a0-8f989522571e",
   "metadata": {},
   "outputs": [],
   "source": [
    "IncomeProblem = BasicProblem(\n",
    "    features=features_to_use,\n",
    "    target='PINCP',\n",
    "    target_transform=lambda x: x > 50000, #0 if PINCP <=50k; #1 if PINCP >50k\n",
    "    group='SEX',\n",
    "    preprocess=adult_filter,\n",
    "    postprocess=lambda x: np.nan_to_num(x, -1),\n",
    ")\n",
    "\n",
    "features, label, group = IncomeProblem.df_to_numpy(acs_data)"
   ]
  },
  {
   "cell_type": "code",
   "execution_count": 146,
   "id": "55acd554-a545-423b-a60e-d7529590a9a6",
   "metadata": {},
   "outputs": [],
   "source": [
    "from sklearn.model_selection import train_test_split\n",
    "X_train, X_test, y_train, y_test, group_train, group_test = train_test_split(\n",
    "    features, label, group, test_size=0.2, random_state=0)"
   ]
  },
  {
   "cell_type": "markdown",
   "id": "9db29db5-bea8-4fa1-8e52-825a9248529f",
   "metadata": {},
   "source": [
    "# Basic Descriptives"
   ]
  },
  {
   "cell_type": "code",
   "execution_count": null,
   "id": "75431523-9c9e-4f3f-a9c5-5d78320bde40",
   "metadata": {},
   "outputs": [],
   "source": [
    "Note: These basic descriptives are based only the training dataset."
   ]
  },
  {
   "cell_type": "code",
   "execution_count": 147,
   "id": "69d919ea-1b01-4d8a-ac43-a14880a7be77",
   "metadata": {},
   "outputs": [],
   "source": [
    "#create dataframe w/ training data for purposes of finding basic descriptives more easily\n",
    "import pandas as pd\n",
    "df = pd.DataFrame(X_train, columns = features_to_use)\n",
    "df[\"group\"] = group_train\n",
    "df[\"label\"] = y_train"
   ]
  },
  {
   "cell_type": "code",
   "execution_count": 148,
   "id": "5539cd62-f8e9-4d02-9d94-0c9f4ebfa89a",
   "metadata": {},
   "outputs": [
    {
     "data": {
      "text/html": [
       "<div>\n",
       "<style scoped>\n",
       "    .dataframe tbody tr th:only-of-type {\n",
       "        vertical-align: middle;\n",
       "    }\n",
       "\n",
       "    .dataframe tbody tr th {\n",
       "        vertical-align: top;\n",
       "    }\n",
       "\n",
       "    .dataframe thead th {\n",
       "        text-align: right;\n",
       "    }\n",
       "</style>\n",
       "<table border=\"1\" class=\"dataframe\">\n",
       "  <thead>\n",
       "    <tr style=\"text-align: right;\">\n",
       "      <th></th>\n",
       "      <th>AGEP</th>\n",
       "      <th>COW</th>\n",
       "      <th>SCHL</th>\n",
       "      <th>MAR</th>\n",
       "      <th>OCCP</th>\n",
       "      <th>POBP</th>\n",
       "      <th>RELP</th>\n",
       "      <th>WKHP</th>\n",
       "      <th>RAC1P</th>\n",
       "      <th>group</th>\n",
       "      <th>label</th>\n",
       "    </tr>\n",
       "  </thead>\n",
       "  <tbody>\n",
       "    <tr>\n",
       "      <th>0</th>\n",
       "      <td>64.0</td>\n",
       "      <td>1.0</td>\n",
       "      <td>21.0</td>\n",
       "      <td>1.0</td>\n",
       "      <td>9030.0</td>\n",
       "      <td>39.0</td>\n",
       "      <td>0.0</td>\n",
       "      <td>96.0</td>\n",
       "      <td>1.0</td>\n",
       "      <td>1</td>\n",
       "      <td>True</td>\n",
       "    </tr>\n",
       "    <tr>\n",
       "      <th>1</th>\n",
       "      <td>68.0</td>\n",
       "      <td>3.0</td>\n",
       "      <td>16.0</td>\n",
       "      <td>3.0</td>\n",
       "      <td>5400.0</td>\n",
       "      <td>12.0</td>\n",
       "      <td>0.0</td>\n",
       "      <td>40.0</td>\n",
       "      <td>2.0</td>\n",
       "      <td>2</td>\n",
       "      <td>False</td>\n",
       "    </tr>\n",
       "    <tr>\n",
       "      <th>2</th>\n",
       "      <td>28.0</td>\n",
       "      <td>4.0</td>\n",
       "      <td>20.0</td>\n",
       "      <td>5.0</td>\n",
       "      <td>5310.0</td>\n",
       "      <td>13.0</td>\n",
       "      <td>0.0</td>\n",
       "      <td>20.0</td>\n",
       "      <td>1.0</td>\n",
       "      <td>1</td>\n",
       "      <td>False</td>\n",
       "    </tr>\n",
       "    <tr>\n",
       "      <th>3</th>\n",
       "      <td>50.0</td>\n",
       "      <td>1.0</td>\n",
       "      <td>16.0</td>\n",
       "      <td>1.0</td>\n",
       "      <td>3603.0</td>\n",
       "      <td>12.0</td>\n",
       "      <td>0.0</td>\n",
       "      <td>40.0</td>\n",
       "      <td>2.0</td>\n",
       "      <td>2</td>\n",
       "      <td>False</td>\n",
       "    </tr>\n",
       "    <tr>\n",
       "      <th>4</th>\n",
       "      <td>26.0</td>\n",
       "      <td>2.0</td>\n",
       "      <td>20.0</td>\n",
       "      <td>5.0</td>\n",
       "      <td>5400.0</td>\n",
       "      <td>48.0</td>\n",
       "      <td>0.0</td>\n",
       "      <td>40.0</td>\n",
       "      <td>1.0</td>\n",
       "      <td>2</td>\n",
       "      <td>False</td>\n",
       "    </tr>\n",
       "  </tbody>\n",
       "</table>\n",
       "</div>"
      ],
      "text/plain": [
       "   AGEP  COW  SCHL  MAR    OCCP  POBP  RELP  WKHP  RAC1P  group  label\n",
       "0  64.0  1.0  21.0  1.0  9030.0  39.0   0.0  96.0    1.0      1   True\n",
       "1  68.0  3.0  16.0  3.0  5400.0  12.0   0.0  40.0    2.0      2  False\n",
       "2  28.0  4.0  20.0  5.0  5310.0  13.0   0.0  20.0    1.0      1  False\n",
       "3  50.0  1.0  16.0  1.0  3603.0  12.0   0.0  40.0    2.0      2  False\n",
       "4  26.0  2.0  20.0  5.0  5400.0  48.0   0.0  40.0    1.0      2  False"
      ]
     },
     "execution_count": 148,
     "metadata": {},
     "output_type": "execute_result"
    }
   ],
   "source": [
    "df.head(5)"
   ]
  },
  {
   "cell_type": "code",
   "execution_count": 149,
   "id": "42bd49fd-6efa-4812-aaa4-31958af98e90",
   "metadata": {},
   "outputs": [
    {
     "data": {
      "text/plain": [
       "79140"
      ]
     },
     "execution_count": 149,
     "metadata": {},
     "output_type": "execute_result"
    }
   ],
   "source": [
    "df.shape[0]"
   ]
  },
  {
   "cell_type": "markdown",
   "id": "27e29492-abd5-4573-a753-7a982d7d0793",
   "metadata": {},
   "source": [
    "There are 79140 people in this training dataset"
   ]
  },
  {
   "cell_type": "code",
   "execution_count": 280,
   "id": "a29bed71-8e69-4196-8137-4fe2b735649a",
   "metadata": {},
   "outputs": [
    {
     "data": {
      "text/plain": [
       "False    0.668815\n",
       "True     0.331185\n",
       "Name: label, dtype: float64"
      ]
     },
     "execution_count": 280,
     "metadata": {},
     "output_type": "execute_result"
    }
   ],
   "source": [
    "df[\"label\"].value_counts(normalize = True)"
   ]
  },
  {
   "cell_type": "markdown",
   "id": "9ffcc4e4-03e3-45c9-91ef-c80ec86d4221",
   "metadata": {},
   "source": [
    "Approximately 33% of these people have a target label corresponding to 1 (true), meaning their income is greater than $50,000."
   ]
  },
  {
   "cell_type": "code",
   "execution_count": 278,
   "id": "90712713-26cf-4b47-a8ad-d0438bf26c92",
   "metadata": {},
   "outputs": [
    {
     "data": {
      "text/plain": [
       "1    40684\n",
       "2    38456\n",
       "Name: group, dtype: int64"
      ]
     },
     "execution_count": 278,
     "metadata": {},
     "output_type": "execute_result"
    }
   ],
   "source": [
    "df[\"group\"].value_counts()"
   ]
  },
  {
   "cell_type": "markdown",
   "id": "a50b8921-47d2-4e49-aaa2-cb52ed340a23",
   "metadata": {},
   "source": [
    "There are 40,684 individuals in group 1 (male respondents) and 38,456 individuals in group 2 (female respondents)"
   ]
  },
  {
   "cell_type": "code",
   "execution_count": null,
   "id": "253c8e49-70d2-4caf-9f03-369e03dd6883",
   "metadata": {},
   "outputs": [],
   "source": [
    "over50k = df.query(\"label == True\") #filter out respondents that make >50k"
   ]
  },
  {
   "cell_type": "code",
   "execution_count": null,
   "id": "e2295c8e-c29f-40de-8f22-0a46919c12c8",
   "metadata": {},
   "outputs": [
    {
     "data": {
      "text/plain": [
       "1    16231\n",
       "2     9979\n",
       "Name: group, dtype: int64"
      ]
     },
     "execution_count": 407,
     "metadata": {},
     "output_type": "execute_result"
    }
   ],
   "source": [
    "over50k[\"group\"].value_counts()"
   ]
  },
  {
   "cell_type": "markdown",
   "id": "1af5379d-5c4c-421e-9957-baf8f87d7690",
   "metadata": {},
   "source": [
    "There are 16,231 male individuals who make more than \\\\$50,000 in group 1 and 9,979 female individuals who make more than \\\\$50,000 in group 2"
   ]
  },
  {
   "cell_type": "code",
   "execution_count": 468,
   "id": "6f12410d-5223-4dea-be6c-f069719a6fb4",
   "metadata": {},
   "outputs": [
    {
     "name": "stdout",
     "output_type": "stream",
     "text": [
      "0.3989529053190443\n",
      "0.259491366756813\n"
     ]
    }
   ],
   "source": [
    "#prevalence or base rates\n",
    "print(16231/40684)\n",
    "print(9979/38456)"
   ]
  },
  {
   "cell_type": "markdown",
   "id": "177317d2-690d-4f99-b25e-2670fbd96df2",
   "metadata": {},
   "source": [
    "Approximately 39.9% of the male respondents (group 1) have an income over \\\\$50,000 (target label equals 1) and appproximately 25.9% of the female respondents (group 2) have an income over \\\\$50,000 (target label equals 1). "
   ]
  },
  {
   "cell_type": "code",
   "execution_count": 433,
   "id": "fb84ea39-e2ed-4c2d-b74d-c49a891d1b01",
   "metadata": {},
   "outputs": [],
   "source": [
    "black_white = df.query(\"RAC1P == 1.0 or RAC1P == 2.0\")"
   ]
  },
  {
   "cell_type": "code",
   "execution_count": 434,
   "id": "b8d4a016-fb61-478c-b488-31178b44687b",
   "metadata": {},
   "outputs": [],
   "source": [
    "grouped_over50k_black_white = black_white.groupby([\"group\", \"RAC1P\"], as_index=False)[\"label\"].value_counts(normalize = True)"
   ]
  },
  {
   "cell_type": "code",
   "execution_count": 435,
   "id": "266c1754-27d4-4826-a79e-82a1a935b864",
   "metadata": {},
   "outputs": [],
   "source": [
    "grouped_over50k_black_white = grouped_over50k_black_white.query(\"label == True\")"
   ]
  },
  {
   "cell_type": "code",
   "execution_count": 436,
   "id": "703fef9a-8c31-4f0a-853e-065f623ea439",
   "metadata": {},
   "outputs": [
    {
     "data": {
      "text/html": [
       "<div>\n",
       "<style scoped>\n",
       "    .dataframe tbody tr th:only-of-type {\n",
       "        vertical-align: middle;\n",
       "    }\n",
       "\n",
       "    .dataframe tbody tr th {\n",
       "        vertical-align: top;\n",
       "    }\n",
       "\n",
       "    .dataframe thead th {\n",
       "        text-align: right;\n",
       "    }\n",
       "</style>\n",
       "<table border=\"1\" class=\"dataframe\">\n",
       "  <thead>\n",
       "    <tr style=\"text-align: right;\">\n",
       "      <th></th>\n",
       "      <th>group</th>\n",
       "      <th>RAC1P</th>\n",
       "      <th>label</th>\n",
       "      <th>proportion</th>\n",
       "    </tr>\n",
       "  </thead>\n",
       "  <tbody>\n",
       "    <tr>\n",
       "      <th>1</th>\n",
       "      <td>1</td>\n",
       "      <td>1.0</td>\n",
       "      <td>True</td>\n",
       "      <td>0.430228</td>\n",
       "    </tr>\n",
       "    <tr>\n",
       "      <th>3</th>\n",
       "      <td>1</td>\n",
       "      <td>2.0</td>\n",
       "      <td>True</td>\n",
       "      <td>0.221417</td>\n",
       "    </tr>\n",
       "    <tr>\n",
       "      <th>5</th>\n",
       "      <td>2</td>\n",
       "      <td>1.0</td>\n",
       "      <td>True</td>\n",
       "      <td>0.281288</td>\n",
       "    </tr>\n",
       "    <tr>\n",
       "      <th>7</th>\n",
       "      <td>2</td>\n",
       "      <td>2.0</td>\n",
       "      <td>True</td>\n",
       "      <td>0.155718</td>\n",
       "    </tr>\n",
       "  </tbody>\n",
       "</table>\n",
       "</div>"
      ],
      "text/plain": [
       "   group  RAC1P  label  proportion\n",
       "1      1    1.0   True    0.430228\n",
       "3      1    2.0   True    0.221417\n",
       "5      2    1.0   True    0.281288\n",
       "7      2    2.0   True    0.155718"
      ]
     },
     "execution_count": 436,
     "metadata": {},
     "output_type": "execute_result"
    }
   ],
   "source": [
    "grouped_over50k_black_white"
   ]
  },
  {
   "cell_type": "code",
   "execution_count": 437,
   "id": "aaee5e30-947d-44db-a4ca-41f8c0d2d3a2",
   "metadata": {},
   "outputs": [
    {
     "data": {
      "image/png": "[encoded data removed]",
      "text/plain": [
       "<Figure size 576.25x500 with 1 Axes>"
      ]
     },
     "metadata": {},
     "output_type": "display_data"
    }
   ],
   "source": [
    "import seaborn as sns\n",
    "sns.set_theme(style=\"whitegrid\")\n",
    "\n",
    "g = sns.catplot(\n",
    "    data=grouped_over50k_black_white, kind=\"bar\",\n",
    "    x=\"group\", y=\"proportion\", hue=\"RAC1P\", legend_out = True)\n",
    "\n",
    "\n",
    "g.fig.suptitle('Proportion of respondants making over 50k by gender and race', fontsize=16)\n",
    "g.set_axis_labels(\"\", \"Proportion making over 50k\")\n",
    "g.set_xticklabels(['Male', 'Female'])\n",
    "g._legend.set_title(\"Race\")\n",
    "\n",
    "new_labels = ['White', 'Black']\n",
    "for t, l in zip(g._legend.texts, new_labels):\n",
    "    t.set_text(l)"
   ]
  },
  {
   "cell_type": "markdown",
   "id": "9849ce34-33f9-46dd-a493-142cfb08ff93",
   "metadata": {},
   "source": [
    "Based on the responses from this survey, our basic descriptives tell us:\n",
    "\n",
    "- Most people's income is less than 50k.\n",
    "- There are about as many female respondents as there is male respondents\n",
    "- A larger quantity and proportion of male respondents have an income greater than 50k as opposed to the their female counterparts\n",
    "- Intersectional Bias:\n",
    "    - Interestingly, the proportion of white females making over \\\\$50k is higher than the proportion of black males making over \\\\$50k. The proportion of black females making over \\\\$50k is the lowest for all groupings. These findings are about our dataset before modeling, meaning they represent real-world trends as captured by the American Community Survey’s Public Use Microdata Sample (ACS PUMS), which are often informed by biases. At this macro level, the disparities amongst these groups that are observed may be attributed to gender and racial biases. Though at a micro level, some analyses may be done to try to disprove these claims.\n",
    "    - Do we only consider income inequality to be present if two people of different groups working the same jobs are paid differently? Or, does income inequality encompass who gets to work what types of jobs? More detailed data would be neccessary to wholly answer either of these questions. The disparities observed here may be sufficient to partially answer these questions, however, and may be indicative of the privilege white males hold that results in them usually working higher paying jobs or getting paid more for the same jobs that people in the other groups also do. "
   ]
  },
  {
   "cell_type": "markdown",
   "id": "a2624a50-c403-41b4-bbbd-b2fb9deeb45d",
   "metadata": {},
   "source": [
    "\n",
    "Useful Resources (for this section):\n",
    "- https://jakevdp.github.io/PythonDataScienceHandbook/03.00-introduction-to-pandas.html\n",
    "- https://levelup.gitconnected.com/20-pandas-functions-for-80-of-your-data-science-tasks-b610c8bfe63c"
   ]
  },
  {
   "cell_type": "markdown",
   "id": "43e4fd2b-cbed-49cb-a95f-2e28680951ef",
   "metadata": {},
   "source": [
    "# Model Training"
   ]
  },
  {
   "cell_type": "markdown",
   "id": "2477b42a-2781-43ed-82e3-1297ddf607ed",
   "metadata": {},
   "source": [
    "The model we will use is the RandomForestClassifier. For more information on the specifics of this model refer to this previous blog post: \n",
    "[Classifying Palmer Penguins](https://hedavam.github.io/posts/Classifying%20Palmer%20Penguins%20-%20ML%20Workflow/#model)"
   ]
  },
  {
   "cell_type": "markdown",
   "id": "2a6db3f8-e811-4234-b227-2c8c678fbbcd",
   "metadata": {},
   "source": [
    "### Tuning hyperparameters with cross-validation"
   ]
  },
  {
   "cell_type": "code",
   "execution_count": 405,
   "id": "5b963a14-596e-4107-8103-313e94e7fe5b",
   "metadata": {},
   "outputs": [
    {
     "name": "stdout",
     "output_type": "stream",
     "text": [
      "[0.80439727 0.80414455 0.80427091 0.80243872 0.80332322]\n"
     ]
    }
   ],
   "source": [
    "from sklearn.pipeline import make_pipeline\n",
    "from sklearn.preprocessing import StandardScaler\n",
    "from sklearn.ensemble import RandomForestClassifier\n",
    "from sklearn.model_selection import cross_val_score\n",
    "\n",
    "\n",
    "#create model\n",
    "model = make_pipeline(StandardScaler(), RandomForestClassifier(max_depth=10, random_state=0))\n",
    "model.fit(X_train, y_train)\n",
    "\n",
    "\n",
    "\n",
    "#cross-validation\n",
    "model_scores = cross_val_score(model, X_train, y_train, cv=5)\n",
    "    \n",
    "print(model_scores)"
   ]
  },
  {
   "cell_type": "markdown",
   "id": "fa73f43b-1080-4960-a8d3-87cdcb349f12",
   "metadata": {},
   "source": [
    "The hyperparameter we tuned with the help of cross-validation for this RandomForestClassifier is the max_depth.\n",
    "Note: This could be done iteratively, but it is computationally expensive and takes a while to do. For our purposes, it's arguably more effective to use trial and error to select the max_depth and settle on a value after we see the cross-validation scores plateauing (numbers in the 5-10 range usually work well, though the optimal selection is data dependent)."
   ]
  },
  {
   "cell_type": "markdown",
   "id": "c4588c6f-4c21-4f73-895d-6adf97f6124c",
   "metadata": {},
   "source": [
    "# Model Auditing"
   ]
  },
  {
   "cell_type": "markdown",
   "id": "0415726d-40f1-42d8-a246-befa13b8e248",
   "metadata": {},
   "source": [
    "### Preliminaries "
   ]
  },
  {
   "cell_type": "code",
   "execution_count": null,
   "id": "608c36e8-576c-4564-9a37-d3c0a4c270ad",
   "metadata": {},
   "outputs": [],
   "source": [
    "#gather predictions on test data\n",
    "y_hat_tests = model.predict(X_test)  \n",
    "\n",
    "#functions for Positive Predictive Value, False Negative Rate, False Positive Rate\n",
    "def bias_rates(cf, selection):\n",
    "    TN = cf[0,0] #Predict false, actual is false\n",
    "    FP = cf[0,1] #Predict true, actual is false\n",
    "    FN = cf[1,0] #Predict false, actual is true\n",
    "    TP = cf[1,1] #Predict true, actual is false\n",
    "    \n",
    "    if selection == \"PPV\":\n",
    "        print (TP/(TP+FP))\n",
    "    \n",
    "    elif selection == \"FNR\":\n",
    "        print (FN/(TP+FN))\n",
    "    \n",
    "    elif selection == \"FPR\":\n",
    "        print (FP/(FP+TN))"
   ]
  },
  {
   "cell_type": "markdown",
   "id": "0d28fdb2-2c0c-43fa-b867-68154071356b",
   "metadata": {},
   "source": [
    "## Overall Measures"
   ]
  },
  {
   "cell_type": "markdown",
   "id": "c123084d-85b9-4acc-9533-70ff0889fe2e",
   "metadata": {},
   "source": [
    "#### The model's overall accuracy in predicting whether someone's income is over \\$50,000 is:"
   ]
  },
  {
   "cell_type": "code",
   "execution_count": 389,
   "id": "138a770e-36d8-436a-8b6d-5cea614541d6",
   "metadata": {},
   "outputs": [
    {
     "data": {
      "text/plain": [
       "0.8022744503411675"
      ]
     },
     "execution_count": 389,
     "metadata": {},
     "output_type": "execute_result"
    }
   ],
   "source": [
    "(y_hat_tests == y_test).mean()"
   ]
  },
  {
   "cell_type": "markdown",
   "id": "f7e7d7bf-e6f9-4de4-b365-04d1b140daa8",
   "metadata": {},
   "source": [
    "#### The model's overall positive predictive value (PPV) is:"
   ]
  },
  {
   "cell_type": "code",
   "execution_count": 390,
   "id": "ce55c815-1773-40bc-906c-01c930ade4d4",
   "metadata": {},
   "outputs": [
    {
     "name": "stdout",
     "output_type": "stream",
     "text": [
      "0.7387549478229579\n"
     ]
    }
   ],
   "source": [
    "bias_rates(confusion_matrix(y_test, y_hat_tests), \"PPV\")"
   ]
  },
  {
   "cell_type": "markdown",
   "id": "ee568dc8-5e2d-450a-9259-6611975a5fd3",
   "metadata": {},
   "source": [
    "#### The model's overall false negative rate FNR is:"
   ]
  },
  {
   "cell_type": "code",
   "execution_count": 391,
   "id": "83d06483-4b12-4369-8421-1a3adece7be1",
   "metadata": {},
   "outputs": [
    {
     "name": "stdout",
     "output_type": "stream",
     "text": [
      "0.37465732561681386\n"
     ]
    }
   ],
   "source": [
    "bias_rates(confusion_matrix(y_test, y_hat_tests), \"FNR\")"
   ]
  },
  {
   "cell_type": "markdown",
   "id": "4a19ef0f-b7b7-448e-9880-8e5d0ee186b6",
   "metadata": {},
   "source": [
    "#### The model's overall false positive rate FPR is:"
   ]
  },
  {
   "cell_type": "code",
   "execution_count": 392,
   "id": "f584a975-21ad-4534-ba86-ea51e0117c44",
   "metadata": {},
   "outputs": [
    {
     "name": "stdout",
     "output_type": "stream",
     "text": [
      "0.10984189424313488\n"
     ]
    }
   ],
   "source": [
    "bias_rates(confusion_matrix(y_test, y_hat_tests), \"FPR\")"
   ]
  },
  {
   "cell_type": "markdown",
   "id": "0e79329c-1202-40c6-aadb-40a47f82c777",
   "metadata": {},
   "source": [
    "### By-Group Measures"
   ]
  },
  {
   "cell_type": "markdown",
   "id": "999207ef-da6b-4840-9cd0-196ca3cbbede",
   "metadata": {},
   "source": [
    "### For Male Individuals"
   ]
  },
  {
   "cell_type": "markdown",
   "id": "b2520ccc-1500-46df-962b-09af395979d4",
   "metadata": {},
   "source": [
    "#### The accuracy is:"
   ]
  },
  {
   "cell_type": "code",
   "execution_count": 393,
   "id": "bbd7c0fa-e1f1-4d9c-8c94-1e715cb87c47",
   "metadata": {},
   "outputs": [
    {
     "data": {
      "text/plain": [
       "0.7819096468731506"
      ]
     },
     "execution_count": 393,
     "metadata": {},
     "output_type": "execute_result"
    }
   ],
   "source": [
    "(y_hat_tests == y_test)[group_test == 1].mean()"
   ]
  },
  {
   "cell_type": "markdown",
   "id": "dc44cdbc-a400-4174-baa0-fa71c7dda969",
   "metadata": {},
   "source": [
    "#### The model's positive predictive value (PPV) is:"
   ]
  },
  {
   "cell_type": "code",
   "execution_count": 394,
   "id": "fb4e04c7-a461-43d4-8a27-2fb4a964744f",
   "metadata": {},
   "outputs": [
    {
     "name": "stdout",
     "output_type": "stream",
     "text": [
      "0.7822506861848124\n"
     ]
    }
   ],
   "source": [
    "bias_rates(confusion_matrix(y_test[group_test == 1], y_hat_tests[group_test == 1]), \"PPV\")"
   ]
  },
  {
   "cell_type": "markdown",
   "id": "723ce094-85dd-4f6b-87f8-866c31d52d70",
   "metadata": {},
   "source": [
    "#### The model's false negative rate FNR is:"
   ]
  },
  {
   "cell_type": "code",
   "execution_count": 395,
   "id": "3b79c219-77f1-4b68-a7d1-a276c7cd7929",
   "metadata": {},
   "outputs": [
    {
     "name": "stdout",
     "output_type": "stream",
     "text": [
      "0.3685376661742984\n"
     ]
    }
   ],
   "source": [
    "bias_rates(confusion_matrix(y_test[group_test == 1], y_hat_tests[group_test == 1]), \"FNR\")"
   ]
  },
  {
   "cell_type": "markdown",
   "id": "c25e2c27-8d61-4b8b-8793-d57bb1f1e183",
   "metadata": {},
   "source": [
    "#### The model's false positive rate FPR is:"
   ]
  },
  {
   "cell_type": "code",
   "execution_count": 396,
   "id": "9bf2072c-5c41-4852-9f4c-2112b1df3c61",
   "metadata": {},
   "outputs": [
    {
     "name": "stdout",
     "output_type": "stream",
     "text": [
      "0.1175115207373272\n"
     ]
    }
   ],
   "source": [
    "bias_rates(confusion_matrix(y_test[group_test == 1], y_hat_tests[group_test == 1]), \"FPR\")"
   ]
  },
  {
   "cell_type": "markdown",
   "id": "27317743-5f42-4e1d-8c67-3be1dab4fc9b",
   "metadata": {},
   "source": [
    "### For Female Individuals"
   ]
  },
  {
   "cell_type": "markdown",
   "id": "14653444-b5bd-4431-b451-437adb32abe7",
   "metadata": {},
   "source": [
    "#### The accuracy for female individuals is:"
   ]
  },
  {
   "cell_type": "code",
   "execution_count": 397,
   "id": "8e6aed30-f087-4cf6-91bc-4ede8a4bed68",
   "metadata": {},
   "outputs": [
    {
     "data": {
      "text/plain": [
       "0.8236757541204519"
      ]
     },
     "execution_count": 397,
     "metadata": {},
     "output_type": "execute_result"
    }
   ],
   "source": [
    "(y_hat_tests == y_test)[group_test == 2].mean()"
   ]
  },
  {
   "cell_type": "markdown",
   "id": "51bb6509-22a6-4539-a577-bc13c1232150",
   "metadata": {},
   "source": [
    "#### The model's positive predictive value (PPV) is:"
   ]
  },
  {
   "cell_type": "code",
   "execution_count": 398,
   "id": "27bebee5-24ec-4c9f-99ce-09387779d605",
   "metadata": {},
   "outputs": [
    {
     "name": "stdout",
     "output_type": "stream",
     "text": [
      "0.6761737604212373\n"
     ]
    }
   ],
   "source": [
    "bias_rates(confusion_matrix(y_test[group_test == 2], y_hat_tests[group_test == 2]), \"PPV\")"
   ]
  },
  {
   "cell_type": "markdown",
   "id": "5efd657d-9978-4fcd-b959-cf5ec9947fc7",
   "metadata": {},
   "source": [
    "#### The model's false negative rate FNR is:"
   ]
  },
  {
   "cell_type": "code",
   "execution_count": 399,
   "id": "3edd94fc-16cb-4386-bd1d-a093b2d82b33",
   "metadata": {},
   "outputs": [
    {
     "name": "stdout",
     "output_type": "stream",
     "text": [
      "0.3845846645367412\n"
     ]
    }
   ],
   "source": [
    "bias_rates(confusion_matrix(y_test[group_test == 2], y_hat_tests[group_test == 2]), \"FNR\")"
   ]
  },
  {
   "cell_type": "markdown",
   "id": "5c957282-9edc-4711-8201-7c449207b161",
   "metadata": {},
   "source": [
    "#### The model's false positive rate FPR is:"
   ]
  },
  {
   "cell_type": "code",
   "execution_count": 400,
   "id": "2e0ada2c-5010-4a26-8d47-af364c5a8c7a",
   "metadata": {},
   "outputs": [
    {
     "name": "stdout",
     "output_type": "stream",
     "text": [
      "0.10331793364132717\n"
     ]
    }
   ],
   "source": [
    "bias_rates(confusion_matrix(y_test[group_test == 2], y_hat_tests[group_test == 2]), \"FPR\")"
   ]
  },
  {
   "cell_type": "markdown",
   "id": "c02ee6c5-c96b-4cb6-8e95-6d10ae76e43e",
   "metadata": {},
   "source": [
    "For our binary sex-based income classification task, our overall measures tell us:\n",
    "\n",
    "- The model has a slightly higher accuracy for females than for males (about a 4% difference) \n",
    "    - Accuracy is the # of correct predictions / # of total predictions\n",
    "    - Basically, the likelihood that the model's prediction matches the actual label. \n",
    "- The model's PPV is significantly higher for males than for females (about a 10 % difference), meaning that when the model predicts that males make >\\\\$50k, it is right 10% more often than when it predicts that females make >\\\\$50k.\n",
    "    - PPV is the likelihood that for a given positive prediction, the corresponding actual label that was also positive. \n",
    "- The model has very similar FNR and FPR rates for both groups, meaning that the rate at which the model fail to identify individuals making >\\\\$50k and <\\\\$50k is almost the same for both groups. \n",
    "    - FNR is the the likelihood that for a given actual label that is a positive, the model incorectly predicts a negative label. Basically, failure to identify positive cases.\n",
    "    - FPR is the the likelihood that for a given actual label that is a negative, the model incorectly predicts a positive label. Basically, failure to identify negative cases."
   ]
  },
  {
   "cell_type": "markdown",
   "id": "52704c5d-965c-4daf-b46e-be96ff0ee5f3",
   "metadata": {},
   "source": [
    "Note: \"Positive\" and \"negative\" are not indicative good or bad. In this context, \"positive\" means making >$50k, \"negative\" means making <\\\\$50k."
   ]
  },
  {
   "cell_type": "markdown",
   "id": "9c3d3c67-139a-49a0-8688-28cd262d165a",
   "metadata": {},
   "source": [
    "## Bias Measures"
   ]
  },
  {
   "cell_type": "markdown",
   "id": "0f332ff8-8c01-497f-8783-38c058636323",
   "metadata": {},
   "source": [
    "### Calibration"
   ]
  },
  {
   "cell_type": "markdown",
   "id": "3d419e6c-6a64-42a8-b68a-61f0581d2893",
   "metadata": {},
   "source": [
    "As defined by Chouldechova in [this paper](https://via.hypothes.is/https://arxiv.org/pdf/1703.00056.pdf), \"a score S = S(x) is said to be well-calibrated if it reflects the same\n",
    "likelihood of recidivism irrespective of the individuals’ group membership.\"\n",
    "\n",
    "In our context, when we are doing binary classification for sex-based income, the calibration takes on the form of the PPV.\n",
    "Namely, our model would be well-calibrated if the fraction of predicted individuals making >\\\\$50k who actually make >\\\\$50k is the same across groups."
   ]
  },
  {
   "cell_type": "code",
   "execution_count": 456,
   "id": "fdb435c3-861c-4e73-b2c0-74c93407c551",
   "metadata": {},
   "outputs": [],
   "source": [
    "df2 = pd.DataFrame(X_test, columns = features_to_use) "
   ]
  },
  {
   "cell_type": "code",
   "execution_count": 457,
   "id": "bc96700a-f524-4388-9d88-21b2ebbb8276",
   "metadata": {},
   "outputs": [],
   "source": [
    "df2[\"group\"] = group_test\n",
    "df2[\"label\"] = y_test \n",
    "df2[\"predicted_label\"] = y_hat_tests"
   ]
  },
  {
   "cell_type": "code",
   "execution_count": 458,
   "id": "9c66adf8-ba41-4fb9-9e56-420990045463",
   "metadata": {},
   "outputs": [],
   "source": [
    "df2_calibration = df2.query(\"predicted_label == True\")"
   ]
  },
  {
   "cell_type": "code",
   "execution_count": 459,
   "id": "cf3363b5-ffbf-4836-b414-a0405bd86fb4",
   "metadata": {},
   "outputs": [],
   "source": [
    "df2_calibration = df2_calibration.groupby([\"group\", \"predicted_label\"])[\"label\"].mean().reset_index(name = \"mean\")"
   ]
  },
  {
   "cell_type": "code",
   "execution_count": 460,
   "id": "60ee3115-e005-498c-8a34-feda9024670b",
   "metadata": {},
   "outputs": [
    {
     "data": {
      "image/png": "[encoded data removed]",
      "text/plain": [
       "<Figure size 500x500 with 1 Axes>"
      ]
     },
     "metadata": {},
     "output_type": "display_data"
    }
   ],
   "source": [
    "sns.set_theme(style=\"whitegrid\")\n",
    "\n",
    "p = sns.catplot(data = df2_calibration, kind = \"bar\", x = \"predicted_label\", y = \"mean\", hue = \"group\", legend_out = False)\n",
    "new_labels = ['Male', 'Female']\n",
    "for t, l in zip(p._legend.texts, new_labels):\n",
    "    t.set_text(l)\n",
    "\n",
    "sns.move_legend(p, \"upper right\")"
   ]
  },
  {
   "cell_type": "markdown",
   "id": "f921f68b-0ea8-46e5-a111-a13cc9f2acef",
   "metadata": {},
   "source": [
    "Of those who were predicted to make >\\\\$50k, more males actually make >\\\\$50k. "
   ]
  },
  {
   "cell_type": "markdown",
   "id": "7a512536-8919-4696-96c8-89cea99f779d",
   "metadata": {
    "tags": []
   },
   "source": [
    "### Error Rate Balance"
   ]
  },
  {
   "cell_type": "markdown",
   "id": "a245869d-6eef-4562-9b11-1dd1c047ee49",
   "metadata": {},
   "source": [
    "A prediction satisfies error rate balance if the FPR and FNR are equal across groups."
   ]
  },
  {
   "cell_type": "code",
   "execution_count": 467,
   "id": "040665c0-4381-4830-91a4-0549d23c82d6",
   "metadata": {},
   "outputs": [
    {
     "data": {
      "image/png": "[encoded data removed]",
      "text/plain": [
       "<Figure size 1500x320 with 6 Axes>"
      ]
     },
     "metadata": {},
     "output_type": "display_data"
    }
   ],
   "source": [
    "fig, axarr = plt.subplots(1, 3, figsize=(15,3.2), sharex = False, sharey = False)\n",
    "\n",
    "#overall\n",
    "cm1 = confusion_matrix(y_test, y_hat_tests, labels=model.classes_, normalize = \"true\")\n",
    "disp1 = ConfusionMatrixDisplay(confusion_matrix=cm1,\n",
    "                              display_labels=model.classes_)\n",
    "\n",
    "#male\n",
    "cm2 = confusion_matrix(y_test[group_test == 1], y_hat_tests[group_test == 1], labels=model.classes_)\n",
    "disp2 = ConfusionMatrixDisplay(confusion_matrix=cm2,\n",
    "                              display_labels=model.classes_)\n",
    "\n",
    "#female\n",
    "cm3 = confusion_matrix(y_test[group_test == 2], y_hat_tests[group_test == 2], labels=model.classes_)\n",
    "disp3 = ConfusionMatrixDisplay(confusion_matrix=cm3,\n",
    "                              display_labels=model.classes_)\n",
    "\n",
    "disp1.plot(ax=axarr[0], cmap = plt.cm.Blues)\n",
    "axarr[0].grid(visible=None)\n",
    "\n",
    "disp2.plot(ax=axarr[1], cmap = plt.cm.Blues)\n",
    "axarr[1].grid(visible=None)\n",
    "\n",
    "disp3.plot(ax=axarr[2], cmap = plt.cm.Blues)\n",
    "axarr[2].grid(visible=None)\n",
    "\n"
   ]
  },
  {
   "cell_type": "markdown",
   "id": "94c28198-274b-440b-aa2a-bc4578c93f22",
   "metadata": {},
   "source": [
    "As observed in the overall measures section, the FPR and FNR are nearly the same across groups."
   ]
  },
  {
   "cell_type": "markdown",
   "id": "570eacce-3c0e-4006-8b95-251a85aef487",
   "metadata": {
    "tags": []
   },
   "source": [
    "### Statistical Parity"
   ]
  },
  {
   "cell_type": "markdown",
   "id": "ddf157b5-81a7-4d02-828b-e56a8964e619",
   "metadata": {},
   "source": [
    "A prediction satisfies statistical parity if the likelihood of getting a certain prediction is the same across groups."
   ]
  },
  {
   "cell_type": "markdown",
   "id": "33951142-8770-48c2-ab20-4133b3a082aa",
   "metadata": {},
   "source": [
    "Very subjective picking what the worse classification is. In hands of gov. for taxes, maybe it's worse to be predicted high, cuz you'll pay more taxes and good for lower cuz you'll get more benefits. Bad for people trying to charge you (loans maybe idk), cuz they'll predict you have more money and charge you more."
   ]
  },
  {
   "cell_type": "code",
   "execution_count": 490,
   "id": "8438603c-17f6-4cda-ab45-d8460fc1e919",
   "metadata": {},
   "outputs": [],
   "source": [
    "df2_stat_parity_v = df2.groupby([\"group\"], as_index=False)[\"predicted_label\"].value_counts(normalize = True)"
   ]
  },
  {
   "cell_type": "code",
   "execution_count": 491,
   "id": "807f6d19-7098-4fcc-96ca-734bb7323ac5",
   "metadata": {},
   "outputs": [
    {
     "data": {
      "text/html": [
       "<div>\n",
       "<style scoped>\n",
       "    .dataframe tbody tr th:only-of-type {\n",
       "        vertical-align: middle;\n",
       "    }\n",
       "\n",
       "    .dataframe tbody tr th {\n",
       "        vertical-align: top;\n",
       "    }\n",
       "\n",
       "    .dataframe thead th {\n",
       "        text-align: right;\n",
       "    }\n",
       "</style>\n",
       "<table border=\"1\" class=\"dataframe\">\n",
       "  <thead>\n",
       "    <tr style=\"text-align: right;\">\n",
       "      <th></th>\n",
       "      <th>group</th>\n",
       "      <th>predicted_label</th>\n",
       "      <th>proportion</th>\n",
       "    </tr>\n",
       "  </thead>\n",
       "  <tbody>\n",
       "    <tr>\n",
       "      <th>0</th>\n",
       "      <td>1</td>\n",
       "      <td>False</td>\n",
       "      <td>0.676563</td>\n",
       "    </tr>\n",
       "    <tr>\n",
       "      <th>1</th>\n",
       "      <td>1</td>\n",
       "      <td>True</td>\n",
       "      <td>0.323437</td>\n",
       "    </tr>\n",
       "    <tr>\n",
       "      <th>2</th>\n",
       "      <td>2</td>\n",
       "      <td>False</td>\n",
       "      <td>0.763761</td>\n",
       "    </tr>\n",
       "    <tr>\n",
       "      <th>3</th>\n",
       "      <td>2</td>\n",
       "      <td>True</td>\n",
       "      <td>0.236239</td>\n",
       "    </tr>\n",
       "  </tbody>\n",
       "</table>\n",
       "</div>"
      ],
      "text/plain": [
       "   group  predicted_label  proportion\n",
       "0      1            False    0.676563\n",
       "1      1             True    0.323437\n",
       "2      2            False    0.763761\n",
       "3      2             True    0.236239"
      ]
     },
     "execution_count": 491,
     "metadata": {},
     "output_type": "execute_result"
    }
   ],
   "source": [
    "df2_stat_parity_v"
   ]
  },
  {
   "cell_type": "code",
   "execution_count": 492,
   "id": "183580b6-6b6a-4438-bcf2-f84d5dd7da28",
   "metadata": {},
   "outputs": [
    {
     "data": {
      "image/png": "[encoded data removed]",
      "text/plain": [
       "<Figure size 500x500 with 1 Axes>"
      ]
     },
     "metadata": {},
     "output_type": "display_data"
    }
   ],
   "source": [
    "sns.set_theme(style=\"whitegrid\")\n",
    "\n",
    "p = sns.catplot(data = df2_stat_parity_v, kind = \"bar\", x = \"predicted_label\", y = \"proportion\", hue = \"group\", legend_out = False)\n",
    "new_labels = ['Male', 'Female']\n",
    "for t, l in zip(p._legend.texts, new_labels):\n",
    "    t.set_text(l)\n",
    "\n",
    "sns.move_legend(p, \"upper right\")"
   ]
  },
  {
   "cell_type": "markdown",
   "id": "503a8efe-e453-4b67-b211-49d2ad2f7d00",
   "metadata": {},
   "source": [
    "The model is more likely to predict that males make >50k and that females make <\\\\$50k."
   ]
  },
  {
   "cell_type": "markdown",
   "id": "7a11098d-477f-4dbf-b65f-681837a2d7a3",
   "metadata": {
    "tags": []
   },
   "source": [
    "# Concluding Discussion\n",
    "\n",
    "\n",
    "##### What groups of people could stand to benefit from a system that is able to predict income levels?\n",
    "\n",
    "> Many groups could benefit immalesely from a ML model that accurately predicts someone's income being above a certain threshold. Companies that loan money like banks and car dealerships could use this for expedited decisions on loan eligibility, amounts, and interest rates. By this same logic, this model could also help make social welfare programs more efficient. For individuals that change jobs or achieve a higher education level (amongst other features), this model may be helpful in predicting their new income. \n",
    "    \n",
    "    \n",
    "##### Based on your bias audit, do you feel that your model displays problematic bias? \n",
    "\n",
    "###### PPV, FPR, FNR Relationship:\n",
    "    \n",
    "\n",
    "\\begin{equation}\n",
    "FPR = \\frac{p}{1-p}\\frac{1-PPV}{PPV}(1-FNR)\n",
    "\\end{equation}\n",
    "\n",
    "> As can be deduced from this equation, if the prevalence (base rates) is different across groups, it is mathematically impossible for the PPV to be equal and error rates to be balanced across groups.\n",
    "\n",
    "> Our model is not well-calibrated (unequal PPVs for males and females), but it does satisfy error-rate balance thanks to its PPV disparity.  \n",
    "\n",
    "> For this , calibration is PPV. So higher PPV for male means that the likelihood that when we predict positively, the actual is positive is higher for male. From the female perspective, having a lower PPV means that there is a decreased likelihood that when we predict positively, the actual is positive for females. \n",
    "    \n",
    "> Thus, more females will get \"undeserving\" positive predictions (false positives: predict positive, actual is negative).\n",
    "    \n",
    "> FPR is unaffected though, because of the two group's differing prevalence (base rates). Since there are a lot more true negatives for females, FPR balances out.\n",
    "    FPR = FP / FP + TN    \n",
    "     \n",
    " > In spite of our balanced error-rate, our model is still more likely to predict males make >50k (statistical parity discrepancy). Depending on our model's use case, this may be a form of allocative bias as it could have a disparate impact on either group.\n",
    "\n",
    "    \n",
    "##### Based on your bias audit, what could be the impact of deploying your model for large-scale prediction in commercial or governmaletal settings?\n",
    "\n",
    "    \n",
    ">In commercial settings if our model is used for loan-related tasks, it will probably be for the benefit of the individual that the model predicts that they make >50k as it will help them get approved. In this scenario a disproportionate false negative rate is bad because it will mean that a certain group is less likely to get favorable loans because the model failed to identify positive cases at a higher rate for this group. \n",
    "\n",
    ">In gov. settings if our model is used for distribution of welfare tasks, it will be for the benefit of the individual that the model predicts that they make <50k.  In this scenario a disproportionate false positive rate is bad because it will mean that a certain group is less likely to get favorable loans because the model failed to identify negative cases at a higher rate for this group. \n",
    "\n",
    "    \n",
    "> Since our error rates are balanced, the model will not lead to disparate impact in either scenario, so it could be deployed for both simultaneously. \n",
    "\n",
    "> Nonetheless, becasuse of the statistical parity violation, a higher proportion of males are more likely to attain favorable loans, while a higher proportion of females are more likely to receive favorable welfare benefits. \n",
    "\n",
    "> Fairness intervention tactics to balance out the statistical parity violation may be employed if deemed fit.\n",
    "    \n",
    "\n",
    "##### Beyond bias, are there other potential problems associated with deploying your model that make you uncomfortable? How would you propose addressing some of these problems?\n",
    "\n",
    ">As specified in [the paper](https://arxiv.org/pdf/2108.04884.pdf) that developed the ACS Income prediction task, there are glaring limitations to deploying this model for more general use:\n",
    "\n",
    "> The data is U.S centric (page 8). To deploy this model for other countries, it would be important to ensure that demographic tends regarding sex-based income are similar in those countries. Preferably, data from those countries would be collected and use to train a different model that does the same prediction task.\n",
    "\n",
    "> \"Training and testing on different states leads to unpredictable results\" (page 10). To address this, we should stick to training and testing on the same state. \n",
    "\n",
    "> \"Fairness criteria are more stable over time than predictive accuracy\" (page 10). To address this, we could add econonomic metrics like inflation to make time-sensitive modeling more accurate. The consistency in fairness criteria over time could likely be attributed to base rates remaining stagnant, which may be indiciative of our society's lack of social progress to close the gender pay gap.\n",
    "\n",
    "\n",
    "### NOTE: It is important to acknowdledge the issues feeding bias into our model at their core. As exemplified by our base rates, males' income is higher than females'. Things like equal access to education and industry-wide initiaves to help women advance in the workplace may help close the gap. "
   ]
  },
  {
   "cell_type": "code",
   "execution_count": null,
   "id": "2d79f333-bab1-41a3-977f-6e1ec7d36b3a",
   "metadata": {},
   "outputs": [],
   "source": []
  }
 ],
 "metadata": {
  "kernelspec": {
   "display_name": "Python [conda env:ml-0451] *",
   "language": "python",
   "name": "conda-env-ml-0451-py"
  },
  "language_info": {
   "codemirror_mode": {
    "name": "ipython",
    "version": 3
   },
   "file_extension": ".py",
   "mimetype": "text/x-python",
   "name": "python",
   "nbconvert_exporter": "python",
   "pygments_lexer": "ipython3",
   "version": "3.9.16"
  }
 },
 "nbformat": 4,
 "nbformat_minor": 5
}
